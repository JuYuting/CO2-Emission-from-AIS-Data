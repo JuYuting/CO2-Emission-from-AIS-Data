{
 "cells": [
  {
   "cell_type": "code",
   "execution_count": 24,
   "metadata": {},
   "outputs": [],
   "source": [
    "from pyspark.sql import *\n",
    "from pyspark.sql.types import *\n",
    "from pyspark.sql.functions import *\n",
    "from pyspark import SparkContext\n",
    "from pyspark.sql.window import Window\n",
    "\n",
    "import pandas as pd\n",
    "from datetime import datetime\n",
    "\n",
    "from pyspark.sql.types import IntegerType,DateType\n",
    "from pyspark.sql.functions import udf,col"
   ]
  },
  {
   "cell_type": "code",
   "execution_count": 25,
   "metadata": {},
   "outputs": [],
   "source": [
    "appName = \"AIS Data Cleaning\"\n",
    "master = \"local\"\n",
    "# Create Spark session\n",
    "spark = SparkSession.builder \\\n",
    "    .appName(appName) \\\n",
    "    .master(master) \\\n",
    "    .getOrCreate()\n",
    "\n",
    "df = spark.read.json('2020 data/ais-processed-log-2020-*.json') #all 2020 data"
   ]
  },
  {
   "cell_type": "code",
   "execution_count": 26,
   "metadata": {},
   "outputs": [],
   "source": [
    "# df.count()\n",
    "# df.printSchema()"
   ]
  },
  {
   "cell_type": "markdown",
   "metadata": {},
   "source": [
    "**Dynamic Info**"
   ]
  },
  {
   "cell_type": "code",
   "execution_count": 27,
   "metadata": {},
   "outputs": [],
   "source": [
    "# get the position info for ais type 1,2,3\n",
    "# filter speed > 0, mmsi has 9 digits, lon & lat within selected boundary\n",
    "dynamic_info = df.filter(col('type').isin([1,2,3]))\\\n",
    "        .select(\"mmsi\",\"speed\",\"time\",\"lon\",\"lat\")\\\n",
    "        .filter(df.speed.isNotNull()).filter(df.speed > 0)\\\n",
    "        .filter((df.mmsi >= (10**8)) & (df.mmsi < (10**9)))\\\n",
    "        .filter((df.lon >= 103.4232) & (df.lon <=104.1297) & (df.lat >= 0.9854) & (df.lat <=1.4942))\n",
    "\n",
    "# remove mmsi that appeared < 5 times\n",
    "w = Window.partitionBy('mmsi')\n",
    "dynamic_info = dynamic_info.select('mmsi','speed','time', count('mmsi').over(w).alias('n')).sort('mmsi', 'time')\n",
    "dynamic_info1 = dynamic_info.filter(dynamic_info.n > 4).drop('n')\n",
    "\n",
    "\n",
    "# get date and hour for each record \n",
    "date =  udf (lambda x: datetime.strptime(str(x)[0:10], '%Y-%m-%d'), DateType())\n",
    "hour = udf (lambda x: int(str(x)[11:13]), IntegerType())\n",
    "dynamic_info1 = dynamic_info1.withColumn('date',date(col('time'))).withColumn('hour',hour(col('time')))\n",
    "\n",
    "# get the average speed for each mmsi for each hour (standardise the time interval to be 1 hour)\n",
    "dynamic_info2 = dynamic_info1.drop('time').groupBy('mmsi','date','hour')\\\n",
    "        .agg(round(mean(\"speed\"),1).alias('speed'))\\\n",
    "        .orderBy('mmsi','date','hour')\n",
    "\n",
    "#dynamic_info2.show() #commented this line to save time"
   ]
  },
  {
   "cell_type": "markdown",
   "metadata": {},
   "source": [
    "**Prepare data for Method 1 | estimated running time: 3 hrs**"
   ]
  },
  {
   "cell_type": "code",
   "execution_count": 29,
   "metadata": {},
   "outputs": [],
   "source": [
    "# estimate maximum speed = mean + 3 * sd\n",
    "w = Window.partitionBy('mmsi')\n",
    "dynamic_info3 = dynamic_info2.select('mmsi','date','hour','speed',\n",
    "                                   mean('speed').over(w).alias('mean'),\n",
    "                                   stddev('speed').over(w).alias('sd'))\n",
    "dynamic_info4 = dynamic_info3.withColumn('max_speed',col('mean')+3*col('sd'))\\\n",
    "        .drop('mean','sd').filter(col('speed') <= col('max_speed')) #remove speed > max_speed\n",
    "\n",
    "# calculate fraction of max fuel used\n",
    "dynamic_info5 = dynamic_info4.withColumn(\n",
    "    'fraction_of_max_fuel', when((col(\"speed\")/col('max_speed') <= 0.2), 0.03)\\\n",
    "    .when((col(\"speed\")/col('max_speed') > 0.8), 1.0)\\\n",
    "    .otherwise(0.48))\n",
    "\n",
    "# sum up fraction_of_max_fuel per day per vessel (to ease data storage and further calculation) \n",
    "dynamic_info6 = dynamic_info5.groupBy(\"mmsi\",\"date\")\\\n",
    "    .agg(round(sum('fraction_of_max_fuel'),2).alias(\"sum_fraction_of_max_fuel\"),round(avg('speed'),1).alias(\"avg_speed\"))\n",
    "\n",
    "#dynamic_info6.show() #commented this line to save time"
   ]
  },
  {
   "cell_type": "code",
   "execution_count": 30,
   "metadata": {},
   "outputs": [],
   "source": [
    "# output to csv\n",
    "dynamic_info6.coalesce(1).write.format('com.databricks.spark.csv')\\\n",
    "        .options(header='true').save('clean_data_method1_2020')"
   ]
  },
  {
   "cell_type": "markdown",
   "metadata": {},
   "source": [
    "**Prepare data for Method 2 | estimated running time: 2 hrs**"
   ]
  },
  {
   "cell_type": "code",
   "execution_count": 32,
   "metadata": {},
   "outputs": [],
   "source": [
    "# calculate distance travelled per vessel per day\n",
    "dynamic_info7 = dynamic_info2.groupBy(\"mmsi\",\"date\").agg({'speed':'sum'})\\\n",
    "    .withColumn('distance_daily(km)',round(1.852*col('sum(speed)'),2))\\\n",
    "    .drop('sum(speed)') # 1 knot = 1.852 km/h\n",
    "\n",
    "#dynamic_info7.show() #commented this line to save time"
   ]
  },
  {
   "cell_type": "code",
   "execution_count": 33,
   "metadata": {},
   "outputs": [],
   "source": [
    "# output to csv\n",
    "dynamic_info7.coalesce(1).write.format('com.databricks.spark.csv')\\\n",
    "    .options(header='true').save('clean_data_method2_2020')"
   ]
  },
  {
   "cell_type": "markdown",
   "metadata": {},
   "source": [
    "**Static Info (for mapping mmsi to imo) | estimated running time: 10 mins**"
   ]
  },
  {
   "cell_type": "code",
   "execution_count": 35,
   "metadata": {},
   "outputs": [
    {
     "name": "stdout",
     "output_type": "stream",
     "text": [
      "+---------+-------+\n",
      "|     mmsi|    imo|\n",
      "+---------+-------+\n",
      "|219863000|9778832|\n",
      "|220206000|9260433|\n",
      "|228343900|9299642|\n",
      "|240836000|9412098|\n",
      "|241649000|9819844|\n",
      "|243733592|9514286|\n",
      "|244457000|9367073|\n",
      "|249290000|9421831|\n",
      "|249444280|9621596|\n",
      "|249558000|9728928|\n",
      "|256300000|9436355|\n",
      "|256463000|9418822|\n",
      "|311000318|9733117|\n",
      "|351754000|9636462|\n",
      "|352507000|9534640|\n",
      "|352690000|9301055|\n",
      "|353293960|9430612|\n",
      "|354625000|9404651|\n",
      "|354733000|9181819|\n",
      "|355297000|9073701|\n",
      "+---------+-------+\n",
      "only showing top 20 rows\n",
      "\n"
     ]
    }
   ],
   "source": [
    "## get the reference table for mmsi-imo-shiptype\n",
    "static_info = df.filter(df.type == 5)\\\n",
    "        .select(\"mmsi\",\"imo\",\"time\")\n",
    "\n",
    "# get latest imo number for each unique mmsi\n",
    "w1 = Window.partitionBy('mmsi').orderBy(desc('time'))\n",
    "static_info1 = static_info.withColumn('Rank',dense_rank().over(w1))\n",
    "static_info2 = static_info1.filter(static_info1.Rank == 1)\\\n",
    "        .select(\"mmsi\",\"imo\")\n",
    "static_info2.show()"
   ]
  },
  {
   "cell_type": "code",
   "execution_count": 36,
   "metadata": {},
   "outputs": [],
   "source": [
    "# output to csv\n",
    "static_info2.coalesce(1).write.format('com.databricks.spark.csv')\\\n",
    "    .options(header='true').save('static_info_2020')"
   ]
  },
  {
   "cell_type": "markdown",
   "metadata": {},
   "source": [
    "**Repeat for 2019 data | estimated running time: 7 hrs**"
   ]
  },
  {
   "cell_type": "code",
   "execution_count": 37,
   "metadata": {},
   "outputs": [],
   "source": [
    "df = spark.read.json('2019 data/ais-processed-log-2019-*.json') #all 2019 data\n",
    "\n",
    "# get the position info for ais type 1,2,3\n",
    "# filter speed > 0, mmsi has 9 digits, lon & lat within selected boundary\n",
    "dynamic_info = df.filter(col('type').isin([1,2,3]))\\\n",
    "        .select(\"mmsi\",\"speed\",\"time\",\"lon\",\"lat\")\\\n",
    "        .filter(df.speed.isNotNull()).filter(df.speed > 0)\\\n",
    "        .filter((df.mmsi >= (10**8)) & (df.mmsi < (10**9)))\\\n",
    "        .filter((df.lon >= 103.4232) & (df.lon <=104.1297) & (df.lat >= 0.9854) & (df.lat <=1.4942))\n",
    "\n",
    "# remove mmsi that appeared < 5 times\n",
    "w = Window.partitionBy('mmsi')\n",
    "dynamic_info = dynamic_info.select('mmsi','speed','time', count('mmsi').over(w).alias('n')).sort('mmsi', 'time')\n",
    "dynamic_info1 = dynamic_info.filter(dynamic_info.n > 4).drop('n')\n",
    "\n",
    "\n",
    "# get date and hour for each record \n",
    "date =  udf (lambda x: datetime.strptime(str(x)[0:10], '%Y-%m-%d'), DateType())\n",
    "hour = udf (lambda x: int(str(x)[11:13]), IntegerType())\n",
    "dynamic_info1 = dynamic_info1.withColumn('date',date(col('time'))).withColumn('hour',hour(col('time')))\n",
    "\n",
    "# get the average speed for each mmsi for each hour (standardise the time interval to be 1 hour)\n",
    "dynamic_info2 = dynamic_info1.drop('time').groupBy('mmsi','date','hour')\\\n",
    "        .agg(round(mean(\"speed\"),1).alias('speed'))\\\n",
    "        .orderBy('mmsi','date','hour')"
   ]
  },
  {
   "cell_type": "code",
   "execution_count": 38,
   "metadata": {},
   "outputs": [],
   "source": [
    "# estimate maximum speed = mean + 3 * sd\n",
    "w = Window.partitionBy('mmsi')\n",
    "dynamic_info3 = dynamic_info2.select('mmsi','date','hour','speed',\n",
    "                                   mean('speed').over(w).alias('mean'),\n",
    "                                   stddev('speed').over(w).alias('sd'))\n",
    "dynamic_info4 = dynamic_info3.withColumn('max_speed',col('mean')+3*col('sd'))\\\n",
    "        .drop('mean','sd').filter(col('speed') <= col('max_speed')) #remove speed > max_speed\n",
    "\n",
    "# calculate fraction of max fuel used\n",
    "dynamic_info5 = dynamic_info4.withColumn(\n",
    "    'fraction_of_max_fuel', when((col(\"speed\")/col('max_speed') <= 0.2), 0.03)\\\n",
    "    .when((col(\"speed\")/col('max_speed') > 0.8), 1.0)\\\n",
    "    .otherwise(0.48))\n",
    "\n",
    "# sum up fraction_of_max_fuel per day per vessel (to ease data storage and further calculation) \n",
    "dynamic_info6 = dynamic_info5.groupBy(\"mmsi\",\"date\")\\\n",
    "    .agg(round(sum('fraction_of_max_fuel'),2).alias(\"sum_fraction_of_max_fuel\"),round(avg('speed'),1).alias(\"avg_speed\"))\n",
    "\n",
    "# output to csv\n",
    "dynamic_info6.coalesce(1).write.format('com.databricks.spark.csv')\\\n",
    "        .options(header='true').save('clean_data_method1_2019')"
   ]
  },
  {
   "cell_type": "code",
   "execution_count": 39,
   "metadata": {},
   "outputs": [],
   "source": [
    "# calculate distance travelled per vessel per day\n",
    "dynamic_info7 = dynamic_info2.groupBy(\"mmsi\",\"date\").agg({'speed':'sum'})\\\n",
    "    .withColumn('distance_daily(km)',round(1.852*col('sum(speed)'),2))\\\n",
    "    .drop('sum(speed)') # 1 knot = 1.852 km/h\n",
    "\n",
    "# output to csv\n",
    "dynamic_info7.coalesce(1).write.format('com.databricks.spark.csv')\\\n",
    "    .options(header='true').save('clean_data_method2_2019')"
   ]
  },
  {
   "cell_type": "code",
   "execution_count": 40,
   "metadata": {},
   "outputs": [],
   "source": [
    "## get the reference table for mmsi-imo-shiptype\n",
    "static_info = df.filter(df.type == 5)\\\n",
    "        .select(\"mmsi\",\"imo\",\"time\")\n",
    "\n",
    "# get latest imo number for each unique mmsi\n",
    "w1 = Window.partitionBy('mmsi').orderBy(desc('time'))\n",
    "static_info1 = static_info.withColumn('Rank',dense_rank().over(w1))\n",
    "static_info2 = static_info1.filter(static_info1.Rank == 1)\\\n",
    "        .select(\"mmsi\",\"imo\")\n",
    "\n",
    "# output to csv\n",
    "static_info2.coalesce(1).write.format('com.databricks.spark.csv')\\\n",
    "    .options(header='true').save('static_info_2019')"
   ]
  },
  {
   "cell_type": "code",
   "execution_count": null,
   "metadata": {},
   "outputs": [],
   "source": []
  }
 ],
 "metadata": {
  "kernelspec": {
   "display_name": "Python 3",
   "language": "python",
   "name": "python3"
  },
  "language_info": {
   "codemirror_mode": {
    "name": "ipython",
    "version": 3
   },
   "file_extension": ".py",
   "mimetype": "text/x-python",
   "name": "python",
   "nbconvert_exporter": "python",
   "pygments_lexer": "ipython3",
   "version": "3.8.5"
  }
 },
 "nbformat": 4,
 "nbformat_minor": 2
}
